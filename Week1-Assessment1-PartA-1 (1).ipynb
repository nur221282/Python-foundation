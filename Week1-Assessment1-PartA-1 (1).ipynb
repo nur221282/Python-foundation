{
 "cells": [
  {
   "cell_type": "markdown",
   "id": "1dcdbcd8",
   "metadata": {},
   "source": [
    "###HEALTH INFORMATION"
   ]
  },
  {
   "cell_type": "markdown",
   "id": "47c2b1ce",
   "metadata": {},
   "source": [
    "#The aim of notebook is to present health data and its analysis"
   ]
  },
  {
   "cell_type": "markdown",
   "id": "3df0e76b",
   "metadata": {},
   "source": [
    "#### Section1"
   ]
  },
  {
   "cell_type": "markdown",
   "id": "043d52ea",
   "metadata": {},
   "source": [
    "In this section, 5 values related to behaviour of glucose in blood will be printed via using random library in python.\n",
    "Normal range is between 126 mg/dl and 60 mg/dl, so printed values must be within this range"
   ]
  },
  {
   "cell_type": "code",
   "execution_count": 1,
   "id": "2658b541",
   "metadata": {},
   "outputs": [
    {
     "name": "stdout",
     "output_type": "stream",
     "text": [
      "66 mg/dl\n",
      "108 mg/dl\n",
      "68 mg/dl\n",
      "81 mg/dl\n",
      "84 mg/dl\n"
     ]
    }
   ],
   "source": [
    "from random import randint\n",
    "glucose_level = [randint(60,126) for i in range(5) ]\n",
    "for x in glucose_level:\n",
    "    print(f'{x} mg/dl') #for 5 persons without diabete"
   ]
  },
  {
   "cell_type": "markdown",
   "id": "01aea8b8",
   "metadata": {},
   "source": [
    "#### Section2"
   ]
  },
  {
   "cell_type": "markdown",
   "id": "ef857112",
   "metadata": {},
   "source": [
    "This section is aimed at the calculation of BMI(body mass index,unit : kg/m^2) with the help of following formula : \n",
    "m/h^2, where m is person's weight and h is hir height in meters. round() function will be utilized to get 2 digits of precision"
   ]
  },
  {
   "cell_type": "code",
   "execution_count": 2,
   "id": "8796a429",
   "metadata": {},
   "outputs": [
    {
     "name": "stdout",
     "output_type": "stream",
     "text": [
      "Please input mass and height of person:94 160\n",
      "Body mass index of person: 2406400.0 kg/m^2\n"
     ]
    }
   ],
   "source": [
    "mass,height= map(float,input(\"Please input mass and height of person:\").split())\n",
    "BMI=round(mass * height**2,2)\n",
    "print(f'Body mass index of person: {BMI} kg/m^2')"
   ]
  },
  {
   "cell_type": "markdown",
   "id": "0e58aa16",
   "metadata": {},
   "source": [
    "#### Section3"
   ]
  },
  {
   "cell_type": "markdown",
   "id": "2d7f48bb",
   "metadata": {},
   "source": [
    "This section aims to determine the number of times of each of the 4 nucleobases: adenine, guanine, cytosine, thymine in appears in a DNA sequence"
   ]
  },
  {
   "cell_type": "code",
   "execution_count": 4,
   "id": "8f7fb8dd",
   "metadata": {},
   "outputs": [
    {
     "name": "stdout",
     "output_type": "stream",
     "text": [
      "Please enter a DNA sequence:GGGAAAAA\n",
      "DNA sequence: GGGAAAAA\n",
      "Adenine: 5\n",
      "Guanine: 3\n",
      "Cytosine: 0\n",
      "Thymine: 0\n",
      "\n"
     ]
    }
   ],
   "source": [
    "DNA= str(input(\"Please enter a DNA sequence:\"))\n",
    "for i in DNA: #if user inputs ',' mistakenly it will be removed \n",
    "    if i==',':\n",
    "        DNA=DNA.replace(',','')\n",
    "\n",
    "print(f\"DNA sequence: {DNA.upper()}\")\n",
    "print(f'Adenine: {DNA.upper().count(\"A\")}\\nGuanine: {DNA.upper().count(\"G\")}\\nCytosine: {DNA.upper().count(\"C\")}\\nThymine: {DNA.upper().count(\"T\")}\\n')\n",
    "\n",
    "#### letters of DNA sequence will be converted to upper-case letters if user use any lower-case letter while entering DNA sequence"
   ]
  }
 ],
 "metadata": {
  "kernelspec": {
   "display_name": "Python 3 (ipykernel)",
   "language": "python",
   "name": "python3"
  },
  "language_info": {
   "codemirror_mode": {
    "name": "ipython",
    "version": 3
   },
   "file_extension": ".py",
   "mimetype": "text/x-python",
   "name": "python",
   "nbconvert_exporter": "python",
   "pygments_lexer": "ipython3",
   "version": "3.9.13"
  }
 },
 "nbformat": 4,
 "nbformat_minor": 5
}
